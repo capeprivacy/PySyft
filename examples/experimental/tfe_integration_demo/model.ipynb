{
 "cells": [
  {
   "cell_type": "code",
   "execution_count": null,
   "metadata": {},
   "outputs": [],
   "source": [
    "import torch\n",
    "import syft\n",
    "hook = syft.TorchHook(torch)\n",
    "alice = syft.VirtualWorker(hook, id=\"alice\")  # alice computes on behalf of data owner\n",
    "bob = syft.VirtualWorker(hook, id=\"bob\")      # bob computes on behalf of model owner\n",
    "carol = syft.VirtualWorker(hook, id=\"carol\")  # carol acts as crypto producer"
   ]
  },
  {
   "cell_type": "code",
   "execution_count": null,
   "metadata": {},
   "outputs": [],
   "source": [
    "syft.local_worker"
   ]
  },
  {
   "cell_type": "code",
   "execution_count": null,
   "metadata": {},
   "outputs": [],
   "source": [
    "import tf_encrypted as tfe\n",
    "from syft.keras.model import Sequential\n",
    "from syft.keras.layers import AveragePooling2D, Conv2D, Dense, ReLU"
   ]
  },
  {
   "cell_type": "code",
   "execution_count": null,
   "metadata": {},
   "outputs": [],
   "source": [
    "task_classes = 10\n",
    "task_shape = [None, 1, 28, 28]\n",
    "weights_path = \"./short-conv-mnist/\"  # SavedModel, or Keras weights file"
   ]
  },
  {
   "cell_type": "code",
   "execution_count": null,
   "metadata": {},
   "outputs": [],
   "source": [
    "model = Sequential()  # wrap this in a function, call in SecureNN context\n",
    "\n",
    "model.add(Conv2D(10, (3, 3), input_shape=task_shape[1:]))\n",
    "model.add(AveragePooling2D((2, 2)))\n",
    "model.add(ReLU())\n",
    "model.add(Conv2D(32, (3, 3)))\n",
    "model.add(AveragePooling2D((2, 2)))\n",
    "model.add(ReLU())\n",
    "model.add(Conv2D(64, (3, 3)))\n",
    "model.add(AveragePooling2D((2, 2)))\n",
    "model.add(ReLU())\n",
    "model.add(Flatten())\n",
    "model.add(Dense(10, name=\"logit\"))"
   ]
  },
  {
   "cell_type": "code",
   "execution_count": null,
   "metadata": {},
   "outputs": [],
   "source": [
    "model = build_model()\n",
    "model.load_weights(weights_path)  # can extend this to load the savedmodel if we don't want to define\n",
    "                                  # the architecture in this notebook\n",
    "\n",
    "prot = tfe.SecureNN(player_0=alice,\n",
    "                    player_1=bob,\n",
    "                    comparison_helper=carol,\n",
    "                    crypto_producer=carol)\n",
    "model.share(prot)\n",
    "# with prot:\n",
    "#     new_model = model.rebuild()\n",
    "\n",
    "x = tfe.define_private_input(\n",
    "    prediction_client.player_name,\n",
    "    prediction_client.provide_input,  # this can be converted to a function that waits to\n",
    ")                                     # receive inputs from other syft workers and then passes them on\n",
    "y = model(x)\n",
    "\n",
    "reveal_output = tfe.define_output(\n",
    "    prediction_client.player_name,\n",
    "    y,\n",
    "    prediction_client.receive_output,  # this can pass output result to the prediction_client's worker\n",
    ")\n",
    "\n",
    "# not sure if/how we'll be able to do away with the following for now\n",
    "with tfe.Session() as sess:\n",
    "    sess.run(tfe.global_variables_initializer(), tag='init')\n",
    "    sess.run(reveal_output, tag='predict')"
   ]
  }
 ],
 "metadata": {
  "kernelspec": {
   "display_name": "Python 3",
   "language": "python",
   "name": "python3"
  },
  "language_info": {
   "codemirror_mode": {
    "name": "ipython",
    "version": 3
   },
   "file_extension": ".py",
   "mimetype": "text/x-python",
   "name": "python",
   "nbconvert_exporter": "python",
   "pygments_lexer": "ipython3",
   "version": "3.6.8"
  }
 },
 "nbformat": 4,
 "nbformat_minor": 2
}
